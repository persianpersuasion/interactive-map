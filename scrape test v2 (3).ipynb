{
 "cells": [
  {
   "cell_type": "code",
   "execution_count": 4,
   "id": "e7431f86",
   "metadata": {},
   "outputs": [
    {
     "name": "stdout",
     "output_type": "stream",
     "text": [
      "Requirement already satisfied: selenium in /Users/mehrisadri/anaconda3/lib/python3.11/site-packages (4.32.0)\n",
      "Requirement already satisfied: pandas in /Users/mehrisadri/anaconda3/lib/python3.11/site-packages (2.0.3)\n",
      "Requirement already satisfied: urllib3[socks]<3,>=1.26 in /Users/mehrisadri/anaconda3/lib/python3.11/site-packages (from selenium) (1.26.16)\n",
      "Requirement already satisfied: trio~=0.17 in /Users/mehrisadri/anaconda3/lib/python3.11/site-packages (from selenium) (0.30.0)\n",
      "Requirement already satisfied: trio-websocket~=0.9 in /Users/mehrisadri/anaconda3/lib/python3.11/site-packages (from selenium) (0.12.2)\n",
      "Requirement already satisfied: certifi>=2021.10.8 in /Users/mehrisadri/anaconda3/lib/python3.11/site-packages (from selenium) (2023.7.22)\n",
      "Requirement already satisfied: typing_extensions~=4.9 in /Users/mehrisadri/anaconda3/lib/python3.11/site-packages (from selenium) (4.13.2)\n",
      "Requirement already satisfied: websocket-client~=1.8 in /Users/mehrisadri/anaconda3/lib/python3.11/site-packages (from selenium) (1.8.0)\n",
      "Requirement already satisfied: python-dateutil>=2.8.2 in /Users/mehrisadri/anaconda3/lib/python3.11/site-packages (from pandas) (2.8.2)\n",
      "Requirement already satisfied: pytz>=2020.1 in /Users/mehrisadri/anaconda3/lib/python3.11/site-packages (from pandas) (2023.3.post1)\n",
      "Requirement already satisfied: tzdata>=2022.1 in /Users/mehrisadri/anaconda3/lib/python3.11/site-packages (from pandas) (2023.3)\n",
      "Requirement already satisfied: numpy>=1.21.0 in /Users/mehrisadri/anaconda3/lib/python3.11/site-packages (from pandas) (1.24.3)\n",
      "Requirement already satisfied: six>=1.5 in /Users/mehrisadri/anaconda3/lib/python3.11/site-packages (from python-dateutil>=2.8.2->pandas) (1.16.0)\n",
      "Requirement already satisfied: attrs>=23.2.0 in /Users/mehrisadri/anaconda3/lib/python3.11/site-packages (from trio~=0.17->selenium) (25.3.0)\n",
      "Requirement already satisfied: sortedcontainers in /Users/mehrisadri/anaconda3/lib/python3.11/site-packages (from trio~=0.17->selenium) (2.4.0)\n",
      "Requirement already satisfied: idna in /Users/mehrisadri/anaconda3/lib/python3.11/site-packages (from trio~=0.17->selenium) (3.4)\n",
      "Requirement already satisfied: outcome in /Users/mehrisadri/anaconda3/lib/python3.11/site-packages (from trio~=0.17->selenium) (1.3.0.post0)\n",
      "Requirement already satisfied: sniffio>=1.3.0 in /Users/mehrisadri/anaconda3/lib/python3.11/site-packages (from trio~=0.17->selenium) (1.3.1)\n",
      "Requirement already satisfied: wsproto>=0.14 in /Users/mehrisadri/anaconda3/lib/python3.11/site-packages (from trio-websocket~=0.9->selenium) (1.2.0)\n",
      "Requirement already satisfied: PySocks!=1.5.7,<2.0,>=1.5.6 in /Users/mehrisadri/anaconda3/lib/python3.11/site-packages (from urllib3[socks]<3,>=1.26->selenium) (1.7.1)\n",
      "Requirement already satisfied: h11<1,>=0.9.0 in /Users/mehrisadri/anaconda3/lib/python3.11/site-packages (from wsproto>=0.14->trio-websocket~=0.9->selenium) (0.16.0)\n"
     ]
    }
   ],
   "source": [
    "!pip install selenium pandas\n",
    "\n",
    "from selenium import webdriver\n",
    "from selenium.webdriver.common.by import By\n",
    "import pandas as pd\n",
    "import time"
   ]
  },
  {
   "cell_type": "code",
   "execution_count": 5,
   "id": "4bf78c17",
   "metadata": {},
   "outputs": [
    {
     "name": "stdout",
     "output_type": "stream",
     "text": [
      "Cookie dismissal failed: Message: \n",
      "\n"
     ]
    }
   ],
   "source": [
    "from selenium import webdriver\n",
    "from selenium.webdriver.common.by import By\n",
    "from selenium.webdriver.common.keys import Keys\n",
    "from selenium.webdriver.support.ui import WebDriverWait\n",
    "from selenium.webdriver.support import expected_conditions as EC\n",
    "import time\n",
    "\n",
    "driver = webdriver.Chrome()\n",
    "driver.get(\"https://hootsuite.com/login\")\n",
    "\n",
    "WebDriverWait(driver, 15).until(\n",
    "    EC.visibility_of_element_located((By.CSS_SELECTOR, 'input[type=\"email\"]'))\n",
    ")\n",
    "\n",
    "#Cookies\n",
    "time.sleep(2)\n",
    "try:\n",
    "    # Try to find and click cookie confirmation inside any iframe\n",
    "    for iframe in driver.find_elements(By.TAG_NAME, \"iframe\"):\n",
    "        driver.switch_to.frame(iframe)\n",
    "        try:\n",
    "            driver.find_element(By.XPATH, '//button[contains(text(), \"Confirm My Choices\")]').click()\n",
    "            print(\"✅ Cookie confirmed inside iframe\")\n",
    "            driver.switch_to.default_content()\n",
    "            break\n",
    "        except:\n",
    "            driver.switch_to.default_content()\n",
    "\n",
    "\n",
    "    confirm = WebDriverWait(driver, 5).until(\n",
    "        EC.element_to_be_clickable((By.XPATH, '//button[contains(text(), \"Confirm My Choices\")]'))\n",
    "    )\n",
    "    confirm.click()\n",
    "    print(\"✅ Cookie popup clicked\")\n",
    "\n",
    "except Exception as e:\n",
    "    print(f\"Cookie dismissal failed: {e}\")\n",
    "\n",
    "\n",
    "# Continue login after Cookies\n",
    "email = driver.find_element(By.CSS_SELECTOR, 'input[type=\"email\"]')\n",
    "password = driver.find_element(By.CSS_SELECTOR, 'input[type=\"password\"]')\n",
    "\n",
    "email.send_keys(\"tech@datasciencealliance.org\")\n",
    "password.send_keys(\"#h00T$u1t&\")\n",
    "\n",
    "# Wait and click sign-in button\n",
    "sign_in_button = WebDriverWait(driver, 15).until(\n",
    "    EC.element_to_be_clickable((By.XPATH, '//button[contains(text(), \"Sign in\")]'))\n",
    ")\n",
    "\n",
    "sign_in_button.click()\n"
   ]
  },
  {
   "cell_type": "code",
   "execution_count": 6,
   "id": "1fab4c84",
   "metadata": {},
   "outputs": [
    {
     "ename": "TimeoutException",
     "evalue": "Message: \nStacktrace:\n0   chromedriver                        0x0000000105116a54 cxxbridge1$str$ptr + 2803960\n1   chromedriver                        0x000000010510ecf0 cxxbridge1$str$ptr + 2771860\n2   chromedriver                        0x0000000104c5a864 cxxbridge1$string$len + 93028\n3   chromedriver                        0x0000000104ca1410 cxxbridge1$string$len + 382736\n4   chromedriver                        0x0000000104ce2480 cxxbridge1$string$len + 649088\n5   chromedriver                        0x0000000104c957ec cxxbridge1$string$len + 334572\n6   chromedriver                        0x00000001050dbccc cxxbridge1$str$ptr + 2562928\n7   chromedriver                        0x00000001050def98 cxxbridge1$str$ptr + 2575932\n8   chromedriver                        0x00000001050bc2c4 cxxbridge1$str$ptr + 2433384\n9   chromedriver                        0x00000001050df810 cxxbridge1$str$ptr + 2578100\n10  chromedriver                        0x00000001050ad2f0 cxxbridge1$str$ptr + 2371988\n11  chromedriver                        0x00000001050ff57c cxxbridge1$str$ptr + 2708512\n12  chromedriver                        0x00000001050ff708 cxxbridge1$str$ptr + 2708908\n13  chromedriver                        0x000000010510e93c cxxbridge1$str$ptr + 2770912\n14  libsystem_pthread.dylib             0x00000001bf5fc26c _pthread_start + 148\n15  libsystem_pthread.dylib             0x00000001bf5f708c thread_start + 8\n",
     "output_type": "error",
     "traceback": [
      "\u001b[0;31m---------------------------------------------------------------------------\u001b[0m",
      "\u001b[0;31mTimeoutException\u001b[0m                          Traceback (most recent call last)",
      "Cell \u001b[0;32mIn[6], line 12\u001b[0m\n\u001b[1;32m      9\u001b[0m driver\u001b[38;5;241m.\u001b[39mget(report_url)\n\u001b[1;32m     11\u001b[0m \u001b[38;5;66;03m# Wait for the report page to load by checking for a unique element on that page\u001b[39;00m\n\u001b[0;32m---> 12\u001b[0m WebDriverWait(driver, \u001b[38;5;241m30\u001b[39m)\u001b[38;5;241m.\u001b[39muntil(\n\u001b[1;32m     13\u001b[0m     EC\u001b[38;5;241m.\u001b[39mpresence_of_element_located((By\u001b[38;5;241m.\u001b[39mXPATH, \u001b[38;5;124m'\u001b[39m\u001b[38;5;124m//h1[contains(text(), \u001b[39m\u001b[38;5;124m\"\u001b[39m\u001b[38;5;124mInstagram\u001b[39m\u001b[38;5;124m\"\u001b[39m\u001b[38;5;124m)]\u001b[39m\u001b[38;5;124m'\u001b[39m))\n\u001b[1;32m     14\u001b[0m )\n\u001b[1;32m     16\u001b[0m \u001b[38;5;28mprint\u001b[39m(\u001b[38;5;124m\"\u001b[39m\u001b[38;5;124m✅ Instagram report page loaded successfully\u001b[39m\u001b[38;5;124m\"\u001b[39m)\n\u001b[1;32m     17\u001b[0m time\u001b[38;5;241m.\u001b[39msleep(\u001b[38;5;241m5\u001b[39m)\n",
      "File \u001b[0;32m~/anaconda3/lib/python3.11/site-packages/selenium/webdriver/support/wait.py:146\u001b[0m, in \u001b[0;36mWebDriverWait.until\u001b[0;34m(self, method, message)\u001b[0m\n\u001b[1;32m    144\u001b[0m         \u001b[38;5;28;01mbreak\u001b[39;00m\n\u001b[1;32m    145\u001b[0m     time\u001b[38;5;241m.\u001b[39msleep(\u001b[38;5;28mself\u001b[39m\u001b[38;5;241m.\u001b[39m_poll)\n\u001b[0;32m--> 146\u001b[0m \u001b[38;5;28;01mraise\u001b[39;00m TimeoutException(message, screen, stacktrace)\n",
      "\u001b[0;31mTimeoutException\u001b[0m: Message: \nStacktrace:\n0   chromedriver                        0x0000000105116a54 cxxbridge1$str$ptr + 2803960\n1   chromedriver                        0x000000010510ecf0 cxxbridge1$str$ptr + 2771860\n2   chromedriver                        0x0000000104c5a864 cxxbridge1$string$len + 93028\n3   chromedriver                        0x0000000104ca1410 cxxbridge1$string$len + 382736\n4   chromedriver                        0x0000000104ce2480 cxxbridge1$string$len + 649088\n5   chromedriver                        0x0000000104c957ec cxxbridge1$string$len + 334572\n6   chromedriver                        0x00000001050dbccc cxxbridge1$str$ptr + 2562928\n7   chromedriver                        0x00000001050def98 cxxbridge1$str$ptr + 2575932\n8   chromedriver                        0x00000001050bc2c4 cxxbridge1$str$ptr + 2433384\n9   chromedriver                        0x00000001050df810 cxxbridge1$str$ptr + 2578100\n10  chromedriver                        0x00000001050ad2f0 cxxbridge1$str$ptr + 2371988\n11  chromedriver                        0x00000001050ff57c cxxbridge1$str$ptr + 2708512\n12  chromedriver                        0x00000001050ff708 cxxbridge1$str$ptr + 2708908\n13  chromedriver                        0x000000010510e93c cxxbridge1$str$ptr + 2770912\n14  libsystem_pthread.dylib             0x00000001bf5fc26c _pthread_start + 148\n15  libsystem_pthread.dylib             0x00000001bf5f708c thread_start + 8\n"
     ]
    }
   ],
   "source": [
    "from selenium.webdriver.common.by import By\n",
    "from selenium.webdriver.common.action_chains import ActionChains\n",
    "from selenium.webdriver.support.ui import WebDriverWait\n",
    "from selenium.webdriver.support import expected_conditions as EC\n",
    "import time\n",
    "\n",
    "# Navigate directly to the report link\n",
    "report_url = \"https://hootsuite.com/dashboard#/analytics/report?id=16940216\"\n",
    "driver.get(report_url)\n",
    "\n",
    "# Wait for the report page to load by checking for a unique element on that page\n",
    "WebDriverWait(driver, 30).until(\n",
    "    EC.presence_of_element_located((By.XPATH, '//h1[contains(text(), \"Instagram\")]'))\n",
    ")\n",
    "\n",
    "print(\"✅ Instagram report page loaded successfully\")\n",
    "time.sleep(5)\n",
    "\n",
    "#Setting the time interval (range)?\n",
    "\n",
    "def set_time_range(option_text):\n",
    "    date_button = WebDriverWait(driver, 15).until(\n",
    "        EC.element_to_be_clickable((By.XPATH, '//div[contains(@class, \"date-selector\") or contains(text(), \"Last 7 days\")]'))\n",
    "    )\n",
    "    date_button.click()\n",
    "    time.sleep(2)\n",
    "\n",
    "    option_xpath = f'//span[text()=\"{option_text}\"]'\n",
    "    option = WebDriverWait(driver, 10).until(\n",
    "        EC.element_to_be_clickable((By.XPATH, option_xpath))\n",
    "    )\n",
    "    driver.execute_script(\"arguments[0].scrollIntoView(true);\", option)\n",
    "    option.click()\n",
    "    time.sleep(1)\n",
    "\n",
    "    # Click \"Set\" button to apply the filter\n",
    "    set_button = WebDriverWait(driver, 10).until(\n",
    "        EC.element_to_be_clickable((By.XPATH, '//button[.//text()=\"Set\"]'))\n",
    "    )\n",
    "    set_button.click()\n",
    "    time.sleep(3)\n",
    "\n",
    "# Step 5: Prompt user for time range and apply\n",
    "user_input = input(\"Choose a time range (e.g., 'Last 7 days', 'Last 30 days'): \")\n",
    "set_time_range(user_input)"
   ]
  },
  {
   "cell_type": "code",
   "execution_count": 9,
   "id": "b0f837dd",
   "metadata": {},
   "outputs": [
    {
     "name": "stdout",
     "output_type": "stream",
     "text": [
      "✅ Data saved to /Users/mehrisadri/Downloads/hootsuite_post_reach.csv\n"
     ]
    }
   ],
   "source": [
    "import pandas as pd\n",
    "from datetime import datetime\n",
    "import os\n",
    "\n",
    "today = datetime.today().strftime('%Y-%m-%d')\n",
    "\n",
    "df = pd.DataFrame([{\"Date\": today, \"Post Reach\": post_reach_value}])\n",
    "\n",
    "downloads_path = os.path.join(os.path.expanduser(\"~\"), \"Downloads\")\n",
    "csv_filename = os.path.join(downloads_path, \"hootsuite_post_reach.csv\")\n",
    "\n",
    "if os.path.exists(csv_filename):\n",
    "    df.to_csv(csv_filename, mode='a', index=False, header=False)\n",
    "else:\n",
    "    df.to_csv(csv_filename, index=False)\n",
    "\n",
    "print(f\"✅ Data saved to {csv_filename}\")\n"
   ]
  },
  {
   "cell_type": "code",
   "execution_count": 8,
   "id": "b3e144c9",
   "metadata": {},
   "outputs": [
    {
     "name": "stdout",
     "output_type": "stream",
     "text": [
      "✅ Data saved to hootsuite_post_reach.csv\n"
     ]
    }
   ],
   "source": [
    "c\n"
   ]
  },
  {
   "cell_type": "code",
   "execution_count": null,
   "id": "f93af160",
   "metadata": {},
   "outputs": [],
   "source": []
  }
 ],
 "metadata": {
  "kernelspec": {
   "display_name": "Python 3 (ipykernel)",
   "language": "python",
   "name": "python3"
  },
  "language_info": {
   "codemirror_mode": {
    "name": "ipython",
    "version": 3
   },
   "file_extension": ".py",
   "mimetype": "text/x-python",
   "name": "python",
   "nbconvert_exporter": "python",
   "pygments_lexer": "ipython3",
   "version": "3.11.5"
  }
 },
 "nbformat": 4,
 "nbformat_minor": 5
}
